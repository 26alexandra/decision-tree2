{
 "cells": [
  {
   "cell_type": "code",
   "execution_count": 2,
   "metadata": {
    "collapsed": false,
    "scrolled": true
   },
   "outputs": [
    {
     "data": {
      "text/html": [
       "<table>\n",
       "<thead><tr><th scope=col>Tag</th><th scope=col>Wetter</th><th scope=col>Temperatur</th><th scope=col>Wind</th><th scope=col>Joggen</th></tr></thead>\n",
       "<tbody>\n",
       "\t<tr><td>1         </td><td>Sonnig    </td><td>heiß      </td><td>schwach   </td><td>nein      </td></tr>\n",
       "\t<tr><td>2         </td><td>Regnerisch</td><td>kühl      </td><td>stark     </td><td>nein      </td></tr>\n",
       "\t<tr><td>3         </td><td>Bedeckt   </td><td>mild      </td><td>schwach   </td><td>ja        </td></tr>\n",
       "</tbody>\n",
       "</table>\n"
      ],
      "text/latex": [
       "\\begin{tabular}{r|lllll}\n",
       " Tag & Wetter & Temperatur & Wind & Joggen\\\\\n",
       "\\hline\n",
       "\t 1          & Sonnig     & heiß       & schwach    & nein      \\\\\n",
       "\t 2          & Regnerisch & kühl       & stark      & nein      \\\\\n",
       "\t 3          & Bedeckt    & mild       & schwach    & ja        \\\\\n",
       "\\end{tabular}\n"
      ],
      "text/markdown": [
       "\n",
       "Tag | Wetter | Temperatur | Wind | Joggen | \n",
       "|---|---|---|\n",
       "| 1          | Sonnig     | heiß       | schwach    | nein       | \n",
       "| 2          | Regnerisch | kühl       | stark      | nein       | \n",
       "| 3          | Bedeckt    | mild       | schwach    | ja         | \n",
       "\n",
       "\n"
      ],
      "text/plain": [
       "  Tag Wetter     Temperatur Wind    Joggen\n",
       "1 1   Sonnig     heiß       schwach nein  \n",
       "2 2   Regnerisch kühl       stark   nein  \n",
       "3 3   Bedeckt    mild       schwach ja    "
      ]
     },
     "metadata": {},
     "output_type": "display_data"
    }
   ],
   "source": [
    "Beispiel=data.frame(Tag=c(1,2,3),Wetter=c(\"Sonnig\",\"Regnerisch\",\"Bedeckt\"),Temperatur=c(\"heiß\",\"kühl\",\"mild\"),Wind=c(\"schwach\",\"stark\",\"schwach\"),Joggen=c(\"nein\",\"nein\",\"ja\"),stringsAsFactors = FALSE)\n",
    "\n",
    "Beispiel\n",
    "#http://www.amse.ru/archive/courses/2006/nikolenko/01-dectrees.pdf"
   ]
  },
  {
   "cell_type": "markdown",
   "metadata": {},
   "source": [
    "Beispiel für Regeln:\n",
    "\n",
    "if Wetter=Sonnig then nein\n",
    "if Wetter=Regnerisch then nein\n",
    "if Wetter=Bedeckt & Temperatur=mild then ja"
   ]
  },
  {
   "cell_type": "markdown",
   "metadata": {},
   "source": [
    "\n",
    "\n",
    "\n",
    "\n",
    "## Praktischer Hintergrund mit R\n",
    "\n",
    "Beispiel mit Datensatz über Kyphosis:\n",
    "N = 81 Beobachtungen\n",
    "Kyphosis: \n",
    "absent = Krümmung nach OP vorhanden\n",
    "present = Krümmung nach OP nicht vorhanden\n",
    "Age= Alter in Monaten\n",
    "Number = Anzahl der Betroffenen Wirbel\n",
    "Start = Wirbel, an dem der Eingriff begonnen wurde"
   ]
  },
  {
   "cell_type": "code",
   "execution_count": 2,
   "metadata": {
    "collapsed": false
   },
   "outputs": [
    {
     "name": "stdout",
     "output_type": "stream",
     "text": [
      "'data.frame':\t81 obs. of  4 variables:\n",
      " $ Kyphosis: Factor w/ 2 levels \"absent\",\"present\": 1 1 2 1 1 1 1 1 1 2 ...\n",
      " $ Age     : int  71 158 128 2 1 1 61 37 113 59 ...\n",
      " $ Number  : int  3 3 4 5 4 2 2 3 2 6 ...\n",
      " $ Start   : int  5 14 5 1 15 16 17 16 16 12 ...\n"
     ]
    },
    {
     "data": {
      "text/html": [
       "<table>\n",
       "<thead><tr><th scope=col>Kyphosis</th><th scope=col>Age</th><th scope=col>Number</th><th scope=col>Start</th></tr></thead>\n",
       "<tbody>\n",
       "\t<tr><td>absent </td><td> 71    </td><td>3      </td><td> 5     </td></tr>\n",
       "\t<tr><td>absent </td><td>158    </td><td>3      </td><td>14     </td></tr>\n",
       "\t<tr><td>present</td><td>128    </td><td>4      </td><td> 5     </td></tr>\n",
       "\t<tr><td>absent </td><td>  2    </td><td>5      </td><td> 1     </td></tr>\n",
       "\t<tr><td>absent </td><td>  1    </td><td>4      </td><td>15     </td></tr>\n",
       "\t<tr><td>absent </td><td>  1    </td><td>2      </td><td>16     </td></tr>\n",
       "\t<tr><td>absent </td><td> 61    </td><td>2      </td><td>17     </td></tr>\n",
       "\t<tr><td>absent </td><td> 37    </td><td>3      </td><td>16     </td></tr>\n",
       "\t<tr><td>absent </td><td>113    </td><td>2      </td><td>16     </td></tr>\n",
       "\t<tr><td>present</td><td> 59    </td><td>6      </td><td>12     </td></tr>\n",
       "</tbody>\n",
       "</table>\n"
      ],
      "text/latex": [
       "\\begin{tabular}{r|llll}\n",
       " Kyphosis & Age & Number & Start\\\\\n",
       "\\hline\n",
       "\t absent  &  71     & 3       &  5     \\\\\n",
       "\t absent  & 158     & 3       & 14     \\\\\n",
       "\t present & 128     & 4       &  5     \\\\\n",
       "\t absent  &   2     & 5       &  1     \\\\\n",
       "\t absent  &   1     & 4       & 15     \\\\\n",
       "\t absent  &   1     & 2       & 16     \\\\\n",
       "\t absent  &  61     & 2       & 17     \\\\\n",
       "\t absent  &  37     & 3       & 16     \\\\\n",
       "\t absent  & 113     & 2       & 16     \\\\\n",
       "\t present &  59     & 6       & 12     \\\\\n",
       "\\end{tabular}\n"
      ],
      "text/markdown": [
       "\n",
       "Kyphosis | Age | Number | Start | \n",
       "|---|---|---|---|---|---|---|---|---|---|\n",
       "| absent  |  71     | 3       |  5      | \n",
       "| absent  | 158     | 3       | 14      | \n",
       "| present | 128     | 4       |  5      | \n",
       "| absent  |   2     | 5       |  1      | \n",
       "| absent  |   1     | 4       | 15      | \n",
       "| absent  |   1     | 2       | 16      | \n",
       "| absent  |  61     | 2       | 17      | \n",
       "| absent  |  37     | 3       | 16      | \n",
       "| absent  | 113     | 2       | 16      | \n",
       "| present |  59     | 6       | 12      | \n",
       "\n",
       "\n"
      ],
      "text/plain": [
       "   Kyphosis Age Number Start\n",
       "1  absent    71 3       5   \n",
       "2  absent   158 3      14   \n",
       "3  present  128 4       5   \n",
       "4  absent     2 5       1   \n",
       "5  absent     1 4      15   \n",
       "6  absent     1 2      16   \n",
       "7  absent    61 2      17   \n",
       "8  absent    37 3      16   \n",
       "9  absent   113 2      16   \n",
       "10 present   59 6      12   "
      ]
     },
     "metadata": {},
     "output_type": "display_data"
    }
   ],
   "source": [
    "library(rpart)\n",
    "data(kyphosis)\n",
    "str(kyphosis) #überblick über die dtaenstruktur\n",
    "head (kyphosis, n=10) # damit werden die daten ausgegeben"
   ]
  },
  {
   "cell_type": "code",
   "execution_count": 3,
   "metadata": {
    "collapsed": false
   },
   "outputs": [
    {
     "data": {
      "text/html": [
       "81"
      ],
      "text/latex": [
       "81"
      ],
      "text/markdown": [
       "81"
      ],
      "text/plain": [
       "[1] 81"
      ]
     },
     "metadata": {},
     "output_type": "display_data"
    },
    {
     "data": {
      "text/html": [
       "56"
      ],
      "text/latex": [
       "56"
      ],
      "text/markdown": [
       "56"
      ],
      "text/plain": [
       "[1] 56"
      ]
     },
     "metadata": {},
     "output_type": "display_data"
    }
   ],
   "source": [
    "#auszählen der beobachtungen die der datensatz enthält für die Trainigdatensatz\n",
    "#mit 70 % der gesamt Beobachtungen, zufällig gesamt 56 beobachtungen\n",
    "n_Daten <- nrow(kyphosis)  # 81 Zeilen \n",
    "n_Daten\n",
    "# 70% der Daten sollen zufällig ausgewählt zum Training verwendet werden\n",
    "# (als Index):\n",
    "Training_i <- sample(nrow(kyphosis), 0.7 * n_Daten)\n",
    "length(Training_i) # Anzahl (und Nr.) der ausgewählten “Zeilen”\n",
    "\n",
    "\n"
   ]
  },
  {
   "cell_type": "markdown",
   "metadata": {},
   "source": [
    "Insgesamt liegen 81 Beobachtungen vor, daraus wurden zufällig 56 Dtaensätze extrachiert. Die Differenz zwischen allen Beobachtungen und dem trainingsdatensatz ist der Testdatensatz mit 25 Datensätzen"
   ]
  },
  {
   "cell_type": "code",
   "execution_count": 16,
   "metadata": {
    "collapsed": false
   },
   "outputs": [
    {
     "data": {
      "text/html": [
       "25"
      ],
      "text/latex": [
       "25"
      ],
      "text/markdown": [
       "25"
      ],
      "text/plain": [
       "[1] 25"
      ]
     },
     "metadata": {},
     "output_type": "display_data"
    },
    {
     "data": {
      "text/html": [
       "<ol class=list-inline>\n",
       "\t<li>1</li>\n",
       "\t<li>2</li>\n",
       "\t<li>3</li>\n",
       "\t<li>4</li>\n",
       "\t<li>6</li>\n",
       "\t<li>11</li>\n",
       "\t<li>12</li>\n",
       "\t<li>13</li>\n",
       "\t<li>14</li>\n",
       "\t<li>18</li>\n",
       "\t<li>19</li>\n",
       "\t<li>20</li>\n",
       "\t<li>21</li>\n",
       "\t<li>22</li>\n",
       "\t<li>23</li>\n",
       "\t<li>24</li>\n",
       "\t<li>25</li>\n",
       "\t<li>27</li>\n",
       "\t<li>28</li>\n",
       "\t<li>29</li>\n",
       "\t<li>30</li>\n",
       "\t<li>32</li>\n",
       "\t<li>33</li>\n",
       "\t<li>35</li>\n",
       "\t<li>37</li>\n",
       "\t<li>38</li>\n",
       "\t<li>39</li>\n",
       "\t<li>40</li>\n",
       "\t<li>41</li>\n",
       "\t<li>42</li>\n",
       "\t<li>44</li>\n",
       "\t<li>46</li>\n",
       "\t<li>47</li>\n",
       "\t<li>52</li>\n",
       "\t<li>53</li>\n",
       "\t<li>54</li>\n",
       "\t<li>55</li>\n",
       "\t<li>57</li>\n",
       "\t<li>59</li>\n",
       "\t<li>60</li>\n",
       "\t<li>62</li>\n",
       "\t<li>63</li>\n",
       "\t<li>64</li>\n",
       "\t<li>65</li>\n",
       "\t<li>66</li>\n",
       "\t<li>67</li>\n",
       "\t<li>68</li>\n",
       "\t<li>69</li>\n",
       "\t<li>70</li>\n",
       "\t<li>71</li>\n",
       "\t<li>72</li>\n",
       "\t<li>73</li>\n",
       "\t<li>74</li>\n",
       "\t<li>77</li>\n",
       "\t<li>78</li>\n",
       "\t<li>79</li>\n",
       "</ol>\n"
      ],
      "text/latex": [
       "\\begin{enumerate*}\n",
       "\\item 1\n",
       "\\item 2\n",
       "\\item 3\n",
       "\\item 4\n",
       "\\item 6\n",
       "\\item 11\n",
       "\\item 12\n",
       "\\item 13\n",
       "\\item 14\n",
       "\\item 18\n",
       "\\item 19\n",
       "\\item 20\n",
       "\\item 21\n",
       "\\item 22\n",
       "\\item 23\n",
       "\\item 24\n",
       "\\item 25\n",
       "\\item 27\n",
       "\\item 28\n",
       "\\item 29\n",
       "\\item 30\n",
       "\\item 32\n",
       "\\item 33\n",
       "\\item 35\n",
       "\\item 37\n",
       "\\item 38\n",
       "\\item 39\n",
       "\\item 40\n",
       "\\item 41\n",
       "\\item 42\n",
       "\\item 44\n",
       "\\item 46\n",
       "\\item 47\n",
       "\\item 52\n",
       "\\item 53\n",
       "\\item 54\n",
       "\\item 55\n",
       "\\item 57\n",
       "\\item 59\n",
       "\\item 60\n",
       "\\item 62\n",
       "\\item 63\n",
       "\\item 64\n",
       "\\item 65\n",
       "\\item 66\n",
       "\\item 67\n",
       "\\item 68\n",
       "\\item 69\n",
       "\\item 70\n",
       "\\item 71\n",
       "\\item 72\n",
       "\\item 73\n",
       "\\item 74\n",
       "\\item 77\n",
       "\\item 78\n",
       "\\item 79\n",
       "\\end{enumerate*}\n"
      ],
      "text/markdown": [
       "1. 1\n",
       "2. 2\n",
       "3. 3\n",
       "4. 4\n",
       "5. 6\n",
       "6. 11\n",
       "7. 12\n",
       "8. 13\n",
       "9. 14\n",
       "10. 18\n",
       "11. 19\n",
       "12. 20\n",
       "13. 21\n",
       "14. 22\n",
       "15. 23\n",
       "16. 24\n",
       "17. 25\n",
       "18. 27\n",
       "19. 28\n",
       "20. 29\n",
       "21. 30\n",
       "22. 32\n",
       "23. 33\n",
       "24. 35\n",
       "25. 37\n",
       "26. 38\n",
       "27. 39\n",
       "28. 40\n",
       "29. 41\n",
       "30. 42\n",
       "31. 44\n",
       "32. 46\n",
       "33. 47\n",
       "34. 52\n",
       "35. 53\n",
       "36. 54\n",
       "37. 55\n",
       "38. 57\n",
       "39. 59\n",
       "40. 60\n",
       "41. 62\n",
       "42. 63\n",
       "43. 64\n",
       "44. 65\n",
       "45. 66\n",
       "46. 67\n",
       "47. 68\n",
       "48. 69\n",
       "49. 70\n",
       "50. 71\n",
       "51. 72\n",
       "52. 73\n",
       "53. 74\n",
       "54. 77\n",
       "55. 78\n",
       "56. 79\n",
       "\n",
       "\n"
      ],
      "text/plain": [
       " [1]  1  2  3  4  6 11 12 13 14 18 19 20 21 22 23 24 25 27 28 29 30 32 33 35 37\n",
       "[26] 38 39 40 41 42 44 46 47 52 53 54 55 57 59 60 62 63 64 65 66 67 68 69 70 71\n",
       "[51] 72 73 74 77 78 79"
      ]
     },
     "metadata": {},
     "output_type": "display_data"
    },
    {
     "data": {
      "text/html": [
       "<ol class=list-inline>\n",
       "\t<li>5</li>\n",
       "\t<li>7</li>\n",
       "\t<li>8</li>\n",
       "\t<li>9</li>\n",
       "\t<li>10</li>\n",
       "\t<li>15</li>\n",
       "\t<li>16</li>\n",
       "\t<li>17</li>\n",
       "\t<li>26</li>\n",
       "\t<li>31</li>\n",
       "\t<li>34</li>\n",
       "\t<li>36</li>\n",
       "\t<li>43</li>\n",
       "\t<li>45</li>\n",
       "\t<li>48</li>\n",
       "\t<li>49</li>\n",
       "\t<li>50</li>\n",
       "\t<li>51</li>\n",
       "\t<li>56</li>\n",
       "\t<li>58</li>\n",
       "\t<li>61</li>\n",
       "\t<li>75</li>\n",
       "\t<li>76</li>\n",
       "\t<li>80</li>\n",
       "\t<li>81</li>\n",
       "</ol>\n"
      ],
      "text/latex": [
       "\\begin{enumerate*}\n",
       "\\item 5\n",
       "\\item 7\n",
       "\\item 8\n",
       "\\item 9\n",
       "\\item 10\n",
       "\\item 15\n",
       "\\item 16\n",
       "\\item 17\n",
       "\\item 26\n",
       "\\item 31\n",
       "\\item 34\n",
       "\\item 36\n",
       "\\item 43\n",
       "\\item 45\n",
       "\\item 48\n",
       "\\item 49\n",
       "\\item 50\n",
       "\\item 51\n",
       "\\item 56\n",
       "\\item 58\n",
       "\\item 61\n",
       "\\item 75\n",
       "\\item 76\n",
       "\\item 80\n",
       "\\item 81\n",
       "\\end{enumerate*}\n"
      ],
      "text/markdown": [
       "1. 5\n",
       "2. 7\n",
       "3. 8\n",
       "4. 9\n",
       "5. 10\n",
       "6. 15\n",
       "7. 16\n",
       "8. 17\n",
       "9. 26\n",
       "10. 31\n",
       "11. 34\n",
       "12. 36\n",
       "13. 43\n",
       "14. 45\n",
       "15. 48\n",
       "16. 49\n",
       "17. 50\n",
       "18. 51\n",
       "19. 56\n",
       "20. 58\n",
       "21. 61\n",
       "22. 75\n",
       "23. 76\n",
       "24. 80\n",
       "25. 81\n",
       "\n",
       "\n"
      ],
      "text/plain": [
       " [1]  5  7  8  9 10 15 16 17 26 31 34 36 43 45 48 49 50 51 56 58 61 75 76 80 81"
      ]
     },
     "metadata": {},
     "output_type": "display_data"
    }
   ],
   "source": [
    "#aus der Differenz zw ges.Beobachtungen und dem trainingdatensatz wird der Testdatensatz zusammengestellt\n",
    "Test_i <- setdiff(1:nrow(kyphosis), Training_i)\n",
    "length(Test_i)\n",
    "\n",
    "sort(Training_i); sort(Test_i) # der größe nach werden die gebildeten vektoren angezeigt"
   ]
  },
  {
   "cell_type": "code",
   "execution_count": 17,
   "metadata": {
    "collapsed": false
   },
   "outputs": [
    {
     "name": "stdout",
     "output_type": "stream",
     "text": [
      "'data.frame':\t56 obs. of  4 variables:\n",
      " $ Kyphosis: Factor w/ 2 levels \"absent\",\"present\": 1 2 2 2 1 1 1 1 1 1 ...\n",
      " $ Age     : int  61 157 139 96 175 127 18 125 2 195 ...\n",
      " $ Number  : int  4 3 10 3 5 4 5 2 2 2 ...\n",
      " $ Start   : int  1 13 6 12 13 12 2 11 17 17 ...\n"
     ]
    }
   ],
   "source": [
    "#ausschneiden der Training- und Testdatensatzes\n",
    "Training <- kyphosis[Training_i,]\n",
    "str(Training)"
   ]
  },
  {
   "cell_type": "code",
   "execution_count": 18,
   "metadata": {
    "collapsed": false
   },
   "outputs": [
    {
     "name": "stdout",
     "output_type": "stream",
     "text": [
      "'data.frame':\t25 obs. of  4 variables:\n",
      " $ Kyphosis: Factor w/ 2 levels \"absent\",\"present\": 1 1 1 1 2 1 1 1 1 1 ...\n",
      " $ Age     : int  1 61 37 113 59 168 1 78 9 31 ...\n",
      " $ Number  : int  4 2 3 2 6 3 3 6 5 3 ...\n",
      " $ Start   : int  15 17 16 16 12 18 16 15 13 16 ...\n"
     ]
    }
   ],
   "source": [
    "Test <- kyphosis[Test_i,]\n",
    "str(Test)"
   ]
  },
  {
   "cell_type": "markdown",
   "metadata": {},
   "source": [
    "Training und Testdatensatz wurden gebieldet. es kann ein Entscheidungsbaum erstellt werden."
   ]
  },
  {
   "cell_type": "code",
   "execution_count": 5,
   "metadata": {
    "collapsed": false,
    "scrolled": true
   },
   "outputs": [
    {
     "ename": "ERROR",
     "evalue": "Error in eval(expr, envir, enclos): konnte Funktion \"rpart\" nicht finden\n",
     "output_type": "error",
     "traceback": [
      "Error in eval(expr, envir, enclos): konnte Funktion \"rpart\" nicht finden\nTraceback:\n"
     ]
    }
   ],
   "source": [
    "#Anpassung <- rpart(Kyphosis ~ Age + Number + Start, data = Training)\n",
    "#print(Anpassung)\n",
    "\n",
    "\n",
    "# Create the tree.\n",
    "  output.tree <- rpart(\n",
    "  Kyphosis ~ Age + Number + Start, \n",
    "  data = Training)\n",
    "\n",
    "plot(output.tree)\n",
    "\n",
    "\n",
    "#plot(Anpassung, uniform = T, compress = T, branch = 0.7)\n",
    "#text(Anpassung, all = T, use.n = T, cex = 0.5)"
   ]
  },
  {
   "cell_type": "markdown",
   "metadata": {
    "collapsed": false
   },
   "source": [
    "Quellen\n",
    "https://www.youtube.com/watch?v=diPvHSeizkg"
   ]
  }
 ],
 "metadata": {
  "kernelspec": {
   "display_name": "R",
   "language": "R",
   "name": "ir"
  },
  "language_info": {
   "codemirror_mode": "r",
   "file_extension": ".r",
   "mimetype": "text/x-r-source",
   "name": "R",
   "pygments_lexer": "r",
   "version": "3.3.2"
  }
 },
 "nbformat": 4,
 "nbformat_minor": 2
}
